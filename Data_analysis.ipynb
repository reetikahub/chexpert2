{
 "cells": [
  {
   "cell_type": "code",
   "execution_count": 2,
   "id": "951283eb",
   "metadata": {},
   "outputs": [
    {
     "data": {
      "text/html": [
       "<div>\n",
       "<style scoped>\n",
       "    .dataframe tbody tr th:only-of-type {\n",
       "        vertical-align: middle;\n",
       "    }\n",
       "\n",
       "    .dataframe tbody tr th {\n",
       "        vertical-align: top;\n",
       "    }\n",
       "\n",
       "    .dataframe thead th {\n",
       "        text-align: right;\n",
       "    }\n",
       "</style>\n",
       "<table border=\"1\" class=\"dataframe\">\n",
       "  <thead>\n",
       "    <tr style=\"text-align: right;\">\n",
       "      <th></th>\n",
       "      <th>Path</th>\n",
       "      <th>Sex</th>\n",
       "      <th>Age</th>\n",
       "      <th>Frontal/Lateral</th>\n",
       "      <th>AP/PA</th>\n",
       "      <th>No Finding</th>\n",
       "      <th>Enlarged Cardiomediastinum</th>\n",
       "      <th>Cardiomegaly</th>\n",
       "      <th>Lung Opacity</th>\n",
       "      <th>Lung Lesion</th>\n",
       "      <th>Edema</th>\n",
       "      <th>Consolidation</th>\n",
       "      <th>Pneumonia</th>\n",
       "      <th>Atelectasis</th>\n",
       "      <th>Pneumothorax</th>\n",
       "      <th>Pleural Effusion</th>\n",
       "      <th>Pleural Other</th>\n",
       "      <th>Fracture</th>\n",
       "      <th>Support Devices</th>\n",
       "      <th>patient_id</th>\n",
       "    </tr>\n",
       "  </thead>\n",
       "  <tbody>\n",
       "    <tr>\n",
       "      <th>0</th>\n",
       "      <td>CheXpert-v1.0-small/train/patient24603/study1/...</td>\n",
       "      <td>Male</td>\n",
       "      <td>71</td>\n",
       "      <td>Frontal</td>\n",
       "      <td>AP</td>\n",
       "      <td>NaN</td>\n",
       "      <td>1.0</td>\n",
       "      <td>NaN</td>\n",
       "      <td>1.0</td>\n",
       "      <td>1.0</td>\n",
       "      <td>NaN</td>\n",
       "      <td>NaN</td>\n",
       "      <td>NaN</td>\n",
       "      <td>NaN</td>\n",
       "      <td>0.0</td>\n",
       "      <td>NaN</td>\n",
       "      <td>NaN</td>\n",
       "      <td>NaN</td>\n",
       "      <td>NaN</td>\n",
       "      <td>patient24603</td>\n",
       "    </tr>\n",
       "    <tr>\n",
       "      <th>1</th>\n",
       "      <td>CheXpert-v1.0-small/train/patient19482/study8/...</td>\n",
       "      <td>Male</td>\n",
       "      <td>77</td>\n",
       "      <td>Frontal</td>\n",
       "      <td>PA</td>\n",
       "      <td>NaN</td>\n",
       "      <td>NaN</td>\n",
       "      <td>NaN</td>\n",
       "      <td>NaN</td>\n",
       "      <td>1.0</td>\n",
       "      <td>NaN</td>\n",
       "      <td>NaN</td>\n",
       "      <td>0.0</td>\n",
       "      <td>NaN</td>\n",
       "      <td>0.0</td>\n",
       "      <td>NaN</td>\n",
       "      <td>NaN</td>\n",
       "      <td>NaN</td>\n",
       "      <td>NaN</td>\n",
       "      <td>patient19482</td>\n",
       "    </tr>\n",
       "    <tr>\n",
       "      <th>2</th>\n",
       "      <td>CheXpert-v1.0-small/train/patient03111/study1/...</td>\n",
       "      <td>Male</td>\n",
       "      <td>52</td>\n",
       "      <td>Frontal</td>\n",
       "      <td>PA</td>\n",
       "      <td>NaN</td>\n",
       "      <td>NaN</td>\n",
       "      <td>0.0</td>\n",
       "      <td>NaN</td>\n",
       "      <td>NaN</td>\n",
       "      <td>NaN</td>\n",
       "      <td>NaN</td>\n",
       "      <td>-1.0</td>\n",
       "      <td>-1.0</td>\n",
       "      <td>NaN</td>\n",
       "      <td>1.0</td>\n",
       "      <td>NaN</td>\n",
       "      <td>NaN</td>\n",
       "      <td>NaN</td>\n",
       "      <td>patient03111</td>\n",
       "    </tr>\n",
       "    <tr>\n",
       "      <th>3</th>\n",
       "      <td>CheXpert-v1.0-small/train/patient05085/study1/...</td>\n",
       "      <td>Female</td>\n",
       "      <td>33</td>\n",
       "      <td>Frontal</td>\n",
       "      <td>AP</td>\n",
       "      <td>1.0</td>\n",
       "      <td>0.0</td>\n",
       "      <td>NaN</td>\n",
       "      <td>NaN</td>\n",
       "      <td>NaN</td>\n",
       "      <td>NaN</td>\n",
       "      <td>0.0</td>\n",
       "      <td>NaN</td>\n",
       "      <td>NaN</td>\n",
       "      <td>0.0</td>\n",
       "      <td>0.0</td>\n",
       "      <td>NaN</td>\n",
       "      <td>NaN</td>\n",
       "      <td>1.0</td>\n",
       "      <td>patient05085</td>\n",
       "    </tr>\n",
       "    <tr>\n",
       "      <th>4</th>\n",
       "      <td>CheXpert-v1.0-small/train/patient14133/study1/...</td>\n",
       "      <td>Male</td>\n",
       "      <td>66</td>\n",
       "      <td>Frontal</td>\n",
       "      <td>PA</td>\n",
       "      <td>NaN</td>\n",
       "      <td>NaN</td>\n",
       "      <td>-1.0</td>\n",
       "      <td>NaN</td>\n",
       "      <td>NaN</td>\n",
       "      <td>NaN</td>\n",
       "      <td>0.0</td>\n",
       "      <td>NaN</td>\n",
       "      <td>NaN</td>\n",
       "      <td>0.0</td>\n",
       "      <td>0.0</td>\n",
       "      <td>NaN</td>\n",
       "      <td>NaN</td>\n",
       "      <td>1.0</td>\n",
       "      <td>patient14133</td>\n",
       "    </tr>\n",
       "  </tbody>\n",
       "</table>\n",
       "</div>"
      ],
      "text/plain": [
       "                                                Path     Sex  Age  \\\n",
       "0  CheXpert-v1.0-small/train/patient24603/study1/...    Male   71   \n",
       "1  CheXpert-v1.0-small/train/patient19482/study8/...    Male   77   \n",
       "2  CheXpert-v1.0-small/train/patient03111/study1/...    Male   52   \n",
       "3  CheXpert-v1.0-small/train/patient05085/study1/...  Female   33   \n",
       "4  CheXpert-v1.0-small/train/patient14133/study1/...    Male   66   \n",
       "\n",
       "  Frontal/Lateral AP/PA  No Finding  Enlarged Cardiomediastinum  Cardiomegaly  \\\n",
       "0         Frontal    AP         NaN                         1.0           NaN   \n",
       "1         Frontal    PA         NaN                         NaN           NaN   \n",
       "2         Frontal    PA         NaN                         NaN           0.0   \n",
       "3         Frontal    AP         1.0                         0.0           NaN   \n",
       "4         Frontal    PA         NaN                         NaN          -1.0   \n",
       "\n",
       "   Lung Opacity  Lung Lesion  Edema  Consolidation  Pneumonia  Atelectasis  \\\n",
       "0           1.0          1.0    NaN            NaN        NaN          NaN   \n",
       "1           NaN          1.0    NaN            NaN        0.0          NaN   \n",
       "2           NaN          NaN    NaN            NaN       -1.0         -1.0   \n",
       "3           NaN          NaN    NaN            0.0        NaN          NaN   \n",
       "4           NaN          NaN    NaN            0.0        NaN          NaN   \n",
       "\n",
       "   Pneumothorax  Pleural Effusion  Pleural Other  Fracture  Support Devices  \\\n",
       "0           0.0               NaN            NaN       NaN              NaN   \n",
       "1           0.0               NaN            NaN       NaN              NaN   \n",
       "2           NaN               1.0            NaN       NaN              NaN   \n",
       "3           0.0               0.0            NaN       NaN              1.0   \n",
       "4           0.0               0.0            NaN       NaN              1.0   \n",
       "\n",
       "     patient_id  \n",
       "0  patient24603  \n",
       "1  patient19482  \n",
       "2  patient03111  \n",
       "3  patient05085  \n",
       "4  patient14133  "
      ]
     },
     "execution_count": 2,
     "metadata": {},
     "output_type": "execute_result"
    }
   ],
   "source": [
    "import pandas as pd\n",
    "\n",
    "#created in the EDA notebook\n",
    "train_df = pd.read_csv('CheXpert-v1.0-small/train_ours.csv')\n",
    "valid_df = pd.read_csv('CheXpert-v1.0-small/valid.csv')\n",
    "test_df = pd.read_csv('CheXpert-v1.0-small/test_ours.csv')\n",
    "\n",
    "train_df.head(5)"
   ]
  },
  {
   "cell_type": "code",
   "execution_count": 24,
   "id": "6a109e5d",
   "metadata": {},
   "outputs": [],
   "source": [
    "import torch\n",
    "import torch.nn as nn\n",
    "import torch.nn.functional as F\n",
    "\n",
    "from torchvision import transforms\n",
    "import torchvision\n",
    "from PIL import Image\n",
    "import numpy as np\n",
    "import matplotlib.pyplot as plt\n",
    "%matplotlib inline\n",
    "\n",
    "# create labels, which will be a dictionary with image path: list of labels\n",
    "\n",
    "disease_cols = ['No Finding', 'Enlarged Cardiomediastinum', 'Cardiomegaly', 'Lung Opacity',\n",
    "       'Lung Lesion', 'Edema', 'Consolidation', 'Pneumonia', 'Atelectasis',\n",
    "       'Pneumothorax', 'Pleural Effusion', 'Pleural Other', 'Fracture']\n",
    "if 0:\n",
    "    train_df = train_df.sample(frac=0.01, random_state=123)\n",
    "#replace -1 with 2 for the uncertain class\n",
    "train_df[disease_cols] = train_df[disease_cols].replace([-1.0],2.0)\n",
    "train_labels = train_df[disease_cols].values\n",
    "train_paths = train_df.Path.values\n",
    "train_ages = train_df.Age.values\n",
    "train_genders = train_df.Sex.values\n",
    "\n",
    "valid_df[disease_cols] = valid_df[disease_cols].replace([-1.0],2.0)\n",
    "valid_labels = valid_df[disease_cols].values\n",
    "valid_paths = valid_df.Path.values\n",
    "valid_ages = valid_df.Age.values\n",
    "valid_genders = valid_df.Sex.values\n",
    "\n",
    "test_df[disease_cols] = test_df[disease_cols].replace([-1.0],2.0)\n",
    "test_labels = test_df[disease_cols].values\n",
    "test_paths = test_df.Path.values\n",
    "test_ages = test_df.Age.values\n",
    "test_genders = test_df.Sex.values"
   ]
  },
  {
   "cell_type": "code",
   "execution_count": 28,
   "id": "63e10828",
   "metadata": {},
   "outputs": [],
   "source": [
    "train_df_short = train_df[['Path','Sex','Age','Frontal/Lateral','AP/PA','Cardiomegaly','Edema','Consolidation','Atelectasis','Pleural Effusion','patient_id']]\n",
    "valid_df_short = valid_df[['Path','Sex','Age','Frontal/Lateral','AP/PA','Cardiomegaly','Edema','Consolidation','Atelectasis','Pleural Effusion']]\n",
    "test_df_short = test_df[['Path','Sex','Age','Frontal/Lateral','AP/PA','Cardiomegaly','Edema','Consolidation','Atelectasis','Pleural Effusion','patient_id']]\n"
   ]
  },
  {
   "cell_type": "markdown",
   "id": "ffb6b644",
   "metadata": {},
   "source": [
    "train_df.head()"
   ]
  },
  {
   "cell_type": "code",
   "execution_count": 27,
   "id": "32988606",
   "metadata": {},
   "outputs": [
    {
     "data": {
      "text/plain": [
       "Index(['Path', 'Sex', 'Age', 'Frontal/Lateral', 'AP/PA', 'No Finding',\n",
       "       'Enlarged Cardiomediastinum', 'Cardiomegaly', 'Lung Opacity',\n",
       "       'Lung Lesion', 'Edema', 'Consolidation', 'Pneumonia', 'Atelectasis',\n",
       "       'Pneumothorax', 'Pleural Effusion', 'Pleural Other', 'Fracture',\n",
       "       'Support Devices'],\n",
       "      dtype='object')"
      ]
     },
     "execution_count": 27,
     "metadata": {},
     "output_type": "execute_result"
    }
   ],
   "source": [
    "valid_df.columns"
   ]
  },
  {
   "cell_type": "code",
   "execution_count": 73,
   "id": "b3811c80",
   "metadata": {},
   "outputs": [
    {
     "name": "stdout",
     "output_type": "stream",
     "text": [
      "{'Cardiomegaly': 26405, 'Edema': 51017, 'Consolidation': 14452, 'Atelectasis': 32596, 'Pleural Effusion': 84160}\n"
     ]
    },
    {
     "data": {
      "image/png": "[encoded data removed]",
      "text/plain": [
       "<Figure size 360x432 with 1 Axes>"
      ]
     },
     "metadata": {
      "needs_background": "light"
     },
     "output_type": "display_data"
    }
   ],
   "source": [
    "import seaborn as sns\n",
    "disease_cols = ['Cardiomegaly','Edema','Consolidation','Atelectasis','Pleural Effusion']\n",
    "disease_count_train = {}\n",
    "disease_count_val = {}\n",
    "disease_count_test = {}\n",
    "\n",
    "for col in disease_cols:\n",
    "    disease_count_train[col]=train_df_short[col].value_counts()[1] #gets count of those with 1\n",
    "    disease_count_val[col]=valid_df_short[col].value_counts()[1] #gets count of those with 1\n",
    "    disease_count_test[col]=train_df_short[col].value_counts()[1] #gets count of those with 1\n",
    "print(disease_count_train)\n",
    "\n",
    "\n",
    "disease_count_train_df = pd.DataFrame(list(disease_count_train.items()),columns = [' ','No of cases']) \n",
    "disease_count_val_df = pd.DataFrame(list(disease_count_val.items()),columns = [' ','No of cases']) \n",
    "disease_count_test_df = pd.DataFrame(list(disease_count_test.items()),columns = [' ','No of cases']) \n",
    "\n",
    "SMALL_SIZE = 8\n",
    "MEDIUM_SIZE = 10\n",
    "BIGGER_SIZE = 12\n",
    "\n",
    "plt.rc('font', size=SMALL_SIZE)          # controls default text sizes\n",
    "plt.rc('axes', titlesize=SMALL_SIZE)     # fontsize of the axes title\n",
    "plt.rc('axes', labelsize=MEDIUM_SIZE)    # fontsize of the x and y labels\n",
    "plt.rc('xtick', labelsize=SMALL_SIZE)    # fontsize of the tick labels\n",
    "plt.rc('ytick', labelsize=SMALL_SIZE)    # fontsize of the tick labels\n",
    "plt.rc('legend', fontsize=SMALL_SIZE)    # legend fontsize\n",
    "plt.rc('figure', titlesize=BIGGER_SIZE)  # fontsize of the figure title\n",
    "\n",
    "width = 0.35\n",
    "ind = np.arange(5)\n",
    "plt.figure(figsize=(5,6))\n",
    "ax=sns.barplot(x=' ', y='No of cases', data=disease_count_train_df,color=(0.2, 0.4, 0.6, 0.6))\n",
    "for tick in ax.get_xticklabels():\n",
    "    tick.set_rotation(90)\n",
    "plt.rcParams.update({'font.size': 22})\n",
    "for item in ([ax.title, ax.xaxis.label, ax.yaxis.label] +\n",
    "             ax.get_xticklabels() + ax.get_yticklabels()):\n",
    "    item.set_fontsize(15)\n",
    "plt.tight_layout()\n",
    "plt.savefig('disease_count_train.png')\n"
   ]
  },
  {
   "cell_type": "code",
   "execution_count": 74,
   "id": "8007c799",
   "metadata": {},
   "outputs": [
    {
     "data": {
      "image/png": "[encoded data removed]",
      "text/plain": [
       "<Figure size 360x432 with 1 Axes>"
      ]
     },
     "metadata": {
      "needs_background": "light"
     },
     "output_type": "display_data"
    }
   ],
   "source": [
    "plt.figure(figsize=(5,6))\n",
    "ax=sns.barplot(x=' ', y='No of cases', data=disease_count_val_df,color=(0.2, 0.4, 0.6, 0.6))\n",
    "for tick in ax.get_xticklabels():\n",
    "    tick.set_rotation(90)\n",
    "plt.rcParams.update({'font.size': 22})\n",
    "for item in ([ax.title, ax.xaxis.label, ax.yaxis.label] +\n",
    "             ax.get_xticklabels() + ax.get_yticklabels()):\n",
    "    item.set_fontsize(15)\n",
    "    plt.tight_layout()\n",
    "plt.savefig('disease_count_val.png')\n"
   ]
  },
  {
   "cell_type": "code",
   "execution_count": 75,
   "id": "7ea707d3",
   "metadata": {},
   "outputs": [
    {
     "data": {
      "image/png": "[encoded data removed]",
      "text/plain": [
       "<Figure size 432x288 with 1 Axes>"
      ]
     },
     "metadata": {
      "needs_background": "light"
     },
     "output_type": "display_data"
    }
   ],
   "source": [
    "ax=sns.barplot(x=' ', y='No of cases', data=disease_count_test_df.sort_values(by='No of cases', ascending=False),color=(0.2, 0.4, 0.6, 0.6))\n",
    "for tick in ax.get_xticklabels():\n",
    "    tick.set_rotation(45)\n",
    "plt.rcParams.update({'font.size': 22})\n",
    "for item in ([ax.title, ax.xaxis.label, ax.yaxis.label] +\n",
    "             ax.get_xticklabels() + ax.get_yticklabels()):\n",
    "    item.set_fontsize(15)\n",
    "plt.tight_layout()\n",
    "plt.savefig('disease_count_test.png')"
   ]
  },
  {
   "cell_type": "code",
   "execution_count": null,
   "id": "17342619",
   "metadata": {},
   "outputs": [],
   "source": []
  }
 ],
 "metadata": {
  "kernelspec": {
   "display_name": "Environment (conda_pytorch_latest_p37)",
   "language": "python",
   "name": "conda_pytorch_latest_p37"
  },
  "language_info": {
   "codemirror_mode": {
    "name": "ipython",
    "version": 3
   },
   "file_extension": ".py",
   "mimetype": "text/x-python",
   "name": "python",
   "nbconvert_exporter": "python",
   "pygments_lexer": "ipython3",
   "version": "3.7.10"
  }
 },
 "nbformat": 4,
 "nbformat_minor": 5
}
